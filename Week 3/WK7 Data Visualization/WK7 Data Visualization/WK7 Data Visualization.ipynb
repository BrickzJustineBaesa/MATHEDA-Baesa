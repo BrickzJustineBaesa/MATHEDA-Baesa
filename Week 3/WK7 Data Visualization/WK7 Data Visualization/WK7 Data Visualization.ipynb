{
 "cells": [
  {
   "cell_type": "markdown",
   "metadata": {},
   "source": [
    "# WK7 Data Visualization <hr style=\"border:2.5px solid #126782\"></hr>"
   ]
  },
  {
   "cell_type": "markdown",
   "metadata": {},
   "source": [
    "Name: **Brickz Justine B. Baesa** <br>\n",
    "Course: **CPE2A**"
   ]
  },
  {
   "cell_type": "code",
   "execution_count": 33,
   "metadata": {},
   "outputs": [],
   "source": [
    "import pandas as pd\n",
    "import numpy as np\n",
    "import matplotlib.pyplot as plt"
   ]
  },
  {
   "cell_type": "code",
   "execution_count": 34,
   "metadata": {},
   "outputs": [
    {
     "name": "stdout",
     "output_type": "stream",
     "text": [
      "<class 'pandas.core.frame.DataFrame'>\n",
      "RangeIndex: 4854 entries, 0 to 4853\n",
      "Data columns (total 13 columns):\n",
      " #   Column        Non-Null Count  Dtype  \n",
      "---  ------        --------------  -----  \n",
      " 0   Product       4854 non-null   object \n",
      " 1   Type          4854 non-null   object \n",
      " 2   Date          4854 non-null   object \n",
      " 3   Process_Size  4845 non-null   float64\n",
      " 4   TDP           4854 non-null   float64\n",
      " 5   Die_Size      4854 non-null   float64\n",
      " 6   Transistors   4854 non-null   float64\n",
      " 7   Frequency     4854 non-null   int64  \n",
      " 8   Foundry       4854 non-null   object \n",
      " 9   Vendor        4854 non-null   object \n",
      " 10  FP16          536 non-null    float64\n",
      " 11  FP32          1948 non-null   float64\n",
      " 12  FP64          1306 non-null   float64\n",
      "dtypes: float64(7), int64(1), object(5)\n",
      "memory usage: 493.1+ KB\n"
     ]
    }
   ],
   "source": [
    "df = pd.read_csv(r\"..\\raw\\chip-dataset-cleaned.csv\",\n",
    "                 delimiter=\",\")\n",
    "df.info()"
   ]
  },
  {
   "cell_type": "code",
   "execution_count": 35,
   "metadata": {},
   "outputs": [
    {
     "data": {
      "text/html": [
       "<div>\n",
       "<style scoped>\n",
       "    .dataframe tbody tr th:only-of-type {\n",
       "        vertical-align: middle;\n",
       "    }\n",
       "\n",
       "    .dataframe tbody tr th {\n",
       "        vertical-align: top;\n",
       "    }\n",
       "\n",
       "    .dataframe thead th {\n",
       "        text-align: right;\n",
       "    }\n",
       "</style>\n",
       "<table border=\"1\" class=\"dataframe\">\n",
       "  <thead>\n",
       "    <tr style=\"text-align: right;\">\n",
       "      <th></th>\n",
       "      <th>Product</th>\n",
       "      <th>Type</th>\n",
       "      <th>Date</th>\n",
       "      <th>Process_Size</th>\n",
       "      <th>TDP</th>\n",
       "      <th>Die_Size</th>\n",
       "      <th>Transistors</th>\n",
       "      <th>Frequency</th>\n",
       "      <th>Foundry</th>\n",
       "      <th>Vendor</th>\n",
       "    </tr>\n",
       "  </thead>\n",
       "  <tbody>\n",
       "    <tr>\n",
       "      <th>0</th>\n",
       "      <td>AMD Athlon 64 3500+</td>\n",
       "      <td>CPU</td>\n",
       "      <td>2/20/2007</td>\n",
       "      <td>65.0</td>\n",
       "      <td>45.0</td>\n",
       "      <td>77.000000</td>\n",
       "      <td>122.000000</td>\n",
       "      <td>2200</td>\n",
       "      <td>Unknown</td>\n",
       "      <td>AMD</td>\n",
       "    </tr>\n",
       "    <tr>\n",
       "      <th>1</th>\n",
       "      <td>AMD Athlon 200GE</td>\n",
       "      <td>CPU</td>\n",
       "      <td>9/6/2018</td>\n",
       "      <td>14.0</td>\n",
       "      <td>35.0</td>\n",
       "      <td>192.000000</td>\n",
       "      <td>4800.000000</td>\n",
       "      <td>3200</td>\n",
       "      <td>Unknown</td>\n",
       "      <td>AMD</td>\n",
       "    </tr>\n",
       "    <tr>\n",
       "      <th>2</th>\n",
       "      <td>Intel Core i5-1145G7</td>\n",
       "      <td>CPU</td>\n",
       "      <td>9/2/2020</td>\n",
       "      <td>10.0</td>\n",
       "      <td>28.0</td>\n",
       "      <td>188.440445</td>\n",
       "      <td>1929.922279</td>\n",
       "      <td>2600</td>\n",
       "      <td>Intel</td>\n",
       "      <td>Intel</td>\n",
       "    </tr>\n",
       "    <tr>\n",
       "      <th>3</th>\n",
       "      <td>Intel Xeon E5-2603 v2</td>\n",
       "      <td>CPU</td>\n",
       "      <td>9/1/2013</td>\n",
       "      <td>22.0</td>\n",
       "      <td>80.0</td>\n",
       "      <td>160.000000</td>\n",
       "      <td>1400.000000</td>\n",
       "      <td>1800</td>\n",
       "      <td>Intel</td>\n",
       "      <td>Intel</td>\n",
       "    </tr>\n",
       "    <tr>\n",
       "      <th>4</th>\n",
       "      <td>AMD Phenom II X4 980 BE</td>\n",
       "      <td>CPU</td>\n",
       "      <td>5/3/2011</td>\n",
       "      <td>45.0</td>\n",
       "      <td>125.0</td>\n",
       "      <td>258.000000</td>\n",
       "      <td>758.000000</td>\n",
       "      <td>3700</td>\n",
       "      <td>Unknown</td>\n",
       "      <td>AMD</td>\n",
       "    </tr>\n",
       "  </tbody>\n",
       "</table>\n",
       "</div>"
      ],
      "text/plain": [
       "                   Product Type       Date  Process_Size    TDP    Die_Size  \\\n",
       "0      AMD Athlon 64 3500+  CPU  2/20/2007          65.0   45.0   77.000000   \n",
       "1         AMD Athlon 200GE  CPU   9/6/2018          14.0   35.0  192.000000   \n",
       "2     Intel Core i5-1145G7  CPU   9/2/2020          10.0   28.0  188.440445   \n",
       "3    Intel Xeon E5-2603 v2  CPU   9/1/2013          22.0   80.0  160.000000   \n",
       "4  AMD Phenom II X4 980 BE  CPU   5/3/2011          45.0  125.0  258.000000   \n",
       "\n",
       "   Transistors  Frequency  Foundry Vendor  \n",
       "0   122.000000       2200  Unknown    AMD  \n",
       "1  4800.000000       3200  Unknown    AMD  \n",
       "2  1929.922279       2600    Intel  Intel  \n",
       "3  1400.000000       1800    Intel  Intel  \n",
       "4   758.000000       3700  Unknown    AMD  "
      ]
     },
     "execution_count": 35,
     "metadata": {},
     "output_type": "execute_result"
    }
   ],
   "source": [
    "df = df.drop(df.columns[[10,11,12]],axis=1)\n",
    "df.head()"
   ]
  },
  {
   "cell_type": "markdown",
   "metadata": {},
   "source": [
    "# N Chips Manufactured"
   ]
  },
  {
   "cell_type": "code",
   "execution_count": 36,
   "metadata": {},
   "outputs": [],
   "source": [
    "df_w = df.copy()"
   ]
  },
  {
   "cell_type": "code",
   "execution_count": 37,
   "metadata": {},
   "outputs": [
    {
     "data": {
      "text/plain": [
       "Vendor\n",
       "AMD       1662\n",
       "Intel     1392\n",
       "NVIDIA    1201\n",
       "ATI        535\n",
       "Other       64\n",
       "Name: count, dtype: int64"
      ]
     },
     "execution_count": 37,
     "metadata": {},
     "output_type": "execute_result"
    }
   ],
   "source": [
    "chip_count = df_w['Vendor'].value_counts()\n",
    "chip_count"
   ]
  },
  {
   "cell_type": "code",
   "execution_count": 38,
   "metadata": {},
   "outputs": [
    {
     "data": {
      "text/plain": [
       "pandas.core.series.Series"
      ]
     },
     "execution_count": 38,
     "metadata": {},
     "output_type": "execute_result"
    }
   ],
   "source": [
    "type(chip_count)"
   ]
  },
  {
   "cell_type": "code",
   "execution_count": 39,
   "metadata": {},
   "outputs": [
    {
     "data": {
      "image/png": "[encoded data removed]",
      "text/plain": [
       "<Figure size 700x500 with 1 Axes>"
      ]
     },
     "metadata": {},
     "output_type": "display_data"
    }
   ],
   "source": [
    "chart = chip_count.plot(kind='bar',\n",
    "                color =['#F62D2D','#D3212D','#A2264B','#722B6A','#1034A6'] \n",
    "                ,figsize=(7,5))\n",
    "chart.bar_label(chart.containers[0],label_type='edge', \n",
    "                fontfamily = 'Times New Roman',\n",
    "                fontweight = 'bold')\n",
    "plt.title('Chips Manufactured CPU And GPU',\n",
    "          fontfamily = 'Times New Roman',\n",
    "          fontweight = 'bold',\n",
    "          fontsize='15')\n",
    "plt.xlabel('')\n",
    "plt.ylabel('N Chips',\n",
    "           fontfamily = 'Times New Roman',\n",
    "          fontweight = 'bold',\n",
    "          fontsize='12')\n",
    "plt.show()"
   ]
  },
  {
   "cell_type": "code",
   "execution_count": 40,
   "metadata": {},
   "outputs": [
    {
     "data": {
      "text/plain": [
       "np.float64(970.8)"
      ]
     },
     "execution_count": 40,
     "metadata": {},
     "output_type": "execute_result"
    }
   ],
   "source": [
    "chip_count = chip_count.mean()\n",
    "chip_count"
   ]
  },
  {
   "cell_type": "markdown",
   "metadata": {},
   "source": [
    "# N CPU Manufactured"
   ]
  },
  {
   "cell_type": "code",
   "execution_count": 41,
   "metadata": {},
   "outputs": [
    {
     "data": {
      "text/html": [
       "<div>\n",
       "<style scoped>\n",
       "    .dataframe tbody tr th:only-of-type {\n",
       "        vertical-align: middle;\n",
       "    }\n",
       "\n",
       "    .dataframe tbody tr th {\n",
       "        vertical-align: top;\n",
       "    }\n",
       "\n",
       "    .dataframe thead th {\n",
       "        text-align: right;\n",
       "    }\n",
       "</style>\n",
       "<table border=\"1\" class=\"dataframe\">\n",
       "  <thead>\n",
       "    <tr style=\"text-align: right;\">\n",
       "      <th></th>\n",
       "      <th>Product</th>\n",
       "      <th>Type</th>\n",
       "      <th>Date</th>\n",
       "      <th>Process_Size</th>\n",
       "      <th>TDP</th>\n",
       "      <th>Die_Size</th>\n",
       "      <th>Transistors</th>\n",
       "      <th>Frequency</th>\n",
       "      <th>Foundry</th>\n",
       "      <th>Vendor</th>\n",
       "    </tr>\n",
       "  </thead>\n",
       "  <tbody>\n",
       "    <tr>\n",
       "      <th>0</th>\n",
       "      <td>AMD Athlon 64 3500+</td>\n",
       "      <td>CPU</td>\n",
       "      <td>2/20/2007</td>\n",
       "      <td>65.0</td>\n",
       "      <td>45.0</td>\n",
       "      <td>77.000000</td>\n",
       "      <td>122.000000</td>\n",
       "      <td>2200</td>\n",
       "      <td>Unknown</td>\n",
       "      <td>AMD</td>\n",
       "    </tr>\n",
       "    <tr>\n",
       "      <th>1</th>\n",
       "      <td>AMD Athlon 200GE</td>\n",
       "      <td>CPU</td>\n",
       "      <td>9/6/2018</td>\n",
       "      <td>14.0</td>\n",
       "      <td>35.0</td>\n",
       "      <td>192.000000</td>\n",
       "      <td>4800.000000</td>\n",
       "      <td>3200</td>\n",
       "      <td>Unknown</td>\n",
       "      <td>AMD</td>\n",
       "    </tr>\n",
       "    <tr>\n",
       "      <th>2</th>\n",
       "      <td>Intel Core i5-1145G7</td>\n",
       "      <td>CPU</td>\n",
       "      <td>9/2/2020</td>\n",
       "      <td>10.0</td>\n",
       "      <td>28.0</td>\n",
       "      <td>188.440445</td>\n",
       "      <td>1929.922279</td>\n",
       "      <td>2600</td>\n",
       "      <td>Intel</td>\n",
       "      <td>Intel</td>\n",
       "    </tr>\n",
       "    <tr>\n",
       "      <th>3</th>\n",
       "      <td>Intel Xeon E5-2603 v2</td>\n",
       "      <td>CPU</td>\n",
       "      <td>9/1/2013</td>\n",
       "      <td>22.0</td>\n",
       "      <td>80.0</td>\n",
       "      <td>160.000000</td>\n",
       "      <td>1400.000000</td>\n",
       "      <td>1800</td>\n",
       "      <td>Intel</td>\n",
       "      <td>Intel</td>\n",
       "    </tr>\n",
       "    <tr>\n",
       "      <th>4</th>\n",
       "      <td>AMD Phenom II X4 980 BE</td>\n",
       "      <td>CPU</td>\n",
       "      <td>5/3/2011</td>\n",
       "      <td>45.0</td>\n",
       "      <td>125.0</td>\n",
       "      <td>258.000000</td>\n",
       "      <td>758.000000</td>\n",
       "      <td>3700</td>\n",
       "      <td>Unknown</td>\n",
       "      <td>AMD</td>\n",
       "    </tr>\n",
       "    <tr>\n",
       "      <th>...</th>\n",
       "      <td>...</td>\n",
       "      <td>...</td>\n",
       "      <td>...</td>\n",
       "      <td>...</td>\n",
       "      <td>...</td>\n",
       "      <td>...</td>\n",
       "      <td>...</td>\n",
       "      <td>...</td>\n",
       "      <td>...</td>\n",
       "      <td>...</td>\n",
       "    </tr>\n",
       "    <tr>\n",
       "      <th>2187</th>\n",
       "      <td>Intel Xeon Gold 6312U</td>\n",
       "      <td>CPU</td>\n",
       "      <td>4/6/2021</td>\n",
       "      <td>10.0</td>\n",
       "      <td>185.0</td>\n",
       "      <td>188.440445</td>\n",
       "      <td>1929.922279</td>\n",
       "      <td>2400</td>\n",
       "      <td>Intel</td>\n",
       "      <td>Intel</td>\n",
       "    </tr>\n",
       "    <tr>\n",
       "      <th>2188</th>\n",
       "      <td>AMD Ryzen 9 4900H</td>\n",
       "      <td>CPU</td>\n",
       "      <td>3/16/2020</td>\n",
       "      <td>7.0</td>\n",
       "      <td>54.0</td>\n",
       "      <td>156.000000</td>\n",
       "      <td>9800.000000</td>\n",
       "      <td>3300</td>\n",
       "      <td>TSMC</td>\n",
       "      <td>AMD</td>\n",
       "    </tr>\n",
       "    <tr>\n",
       "      <th>2189</th>\n",
       "      <td>Intel Core 2 Duo E6550</td>\n",
       "      <td>CPU</td>\n",
       "      <td>7/1/2007</td>\n",
       "      <td>65.0</td>\n",
       "      <td>65.0</td>\n",
       "      <td>143.000000</td>\n",
       "      <td>291.000000</td>\n",
       "      <td>2333</td>\n",
       "      <td>Intel</td>\n",
       "      <td>Intel</td>\n",
       "    </tr>\n",
       "    <tr>\n",
       "      <th>2190</th>\n",
       "      <td>AMD Opteron 246</td>\n",
       "      <td>CPU</td>\n",
       "      <td>12/1/2004</td>\n",
       "      <td>90.0</td>\n",
       "      <td>85.0</td>\n",
       "      <td>188.440445</td>\n",
       "      <td>106.000000</td>\n",
       "      <td>2000</td>\n",
       "      <td>Unknown</td>\n",
       "      <td>AMD</td>\n",
       "    </tr>\n",
       "    <tr>\n",
       "      <th>2191</th>\n",
       "      <td>AMD Athlon 64 X2 5000+ EE</td>\n",
       "      <td>CPU</td>\n",
       "      <td>2/1/2007</td>\n",
       "      <td>90.0</td>\n",
       "      <td>65.0</td>\n",
       "      <td>220.000000</td>\n",
       "      <td>154.000000</td>\n",
       "      <td>2600</td>\n",
       "      <td>Unknown</td>\n",
       "      <td>AMD</td>\n",
       "    </tr>\n",
       "  </tbody>\n",
       "</table>\n",
       "<p>2192 rows × 10 columns</p>\n",
       "</div>"
      ],
      "text/plain": [
       "                        Product Type       Date  Process_Size    TDP  \\\n",
       "0           AMD Athlon 64 3500+  CPU  2/20/2007          65.0   45.0   \n",
       "1              AMD Athlon 200GE  CPU   9/6/2018          14.0   35.0   \n",
       "2          Intel Core i5-1145G7  CPU   9/2/2020          10.0   28.0   \n",
       "3         Intel Xeon E5-2603 v2  CPU   9/1/2013          22.0   80.0   \n",
       "4       AMD Phenom II X4 980 BE  CPU   5/3/2011          45.0  125.0   \n",
       "...                         ...  ...        ...           ...    ...   \n",
       "2187      Intel Xeon Gold 6312U  CPU   4/6/2021          10.0  185.0   \n",
       "2188          AMD Ryzen 9 4900H  CPU  3/16/2020           7.0   54.0   \n",
       "2189     Intel Core 2 Duo E6550  CPU   7/1/2007          65.0   65.0   \n",
       "2190            AMD Opteron 246  CPU  12/1/2004          90.0   85.0   \n",
       "2191  AMD Athlon 64 X2 5000+ EE  CPU   2/1/2007          90.0   65.0   \n",
       "\n",
       "        Die_Size  Transistors  Frequency  Foundry Vendor  \n",
       "0      77.000000   122.000000       2200  Unknown    AMD  \n",
       "1     192.000000  4800.000000       3200  Unknown    AMD  \n",
       "2     188.440445  1929.922279       2600    Intel  Intel  \n",
       "3     160.000000  1400.000000       1800    Intel  Intel  \n",
       "4     258.000000   758.000000       3700  Unknown    AMD  \n",
       "...          ...          ...        ...      ...    ...  \n",
       "2187  188.440445  1929.922279       2400    Intel  Intel  \n",
       "2188  156.000000  9800.000000       3300     TSMC    AMD  \n",
       "2189  143.000000   291.000000       2333    Intel  Intel  \n",
       "2190  188.440445   106.000000       2000  Unknown    AMD  \n",
       "2191  220.000000   154.000000       2600  Unknown    AMD  \n",
       "\n",
       "[2192 rows x 10 columns]"
      ]
     },
     "execution_count": 41,
     "metadata": {},
     "output_type": "execute_result"
    }
   ],
   "source": [
    "df_cpu = df_w[df_w['Type']=='CPU']\n",
    "df_cpu"
   ]
  },
  {
   "cell_type": "code",
   "execution_count": 42,
   "metadata": {},
   "outputs": [
    {
     "data": {
      "text/plain": [
       "Vendor\n",
       "Intel    1242\n",
       "AMD       950\n",
       "Name: count, dtype: int64"
      ]
     },
     "execution_count": 42,
     "metadata": {},
     "output_type": "execute_result"
    }
   ],
   "source": [
    "cpu_count = df_cpu['Vendor'].value_counts()\n",
    "cpu_count"
   ]
  },
  {
   "cell_type": "code",
   "execution_count": 60,
   "metadata": {},
   "outputs": [
    {
     "data": {
      "image/png": "[encoded data removed]",
      "text/plain": [
       "<Figure size 600x300 with 1 Axes>"
      ]
     },
     "metadata": {},
     "output_type": "display_data"
    }
   ],
   "source": [
    "cpu_count.plot(kind='bar',\n",
    "                color = ['#FF2400'],\n",
    "                figsize=(6,3))\n",
    "chart.bar_label(chart.containers[0],label_type='edge', \n",
    "                fontfamily = 'Times New Roman',\n",
    "                fontweight = 'bold')\n",
    "plt.title('Chips Manufactured (CPU And GPU)',\n",
    "          fontfamily = 'Times New Roman',\n",
    "          fontsize = '15',\n",
    "          fontweight = 'bold')\n",
    "plt.xlabel('')\n",
    "plt.ylabel('N Chips',\n",
    "           fontfamily = 'Times New Roman',\n",
    "          fontsize = '12',\n",
    "          fontweight = 'bold')\n",
    "plt.show()"
   ]
  },
  {
   "cell_type": "code",
   "execution_count": 63,
   "metadata": {},
   "outputs": [
    {
     "data": {
      "text/plain": [
       "np.float64(1096.0)"
      ]
     },
     "execution_count": 63,
     "metadata": {},
     "output_type": "execute_result"
    }
   ],
   "source": [
    "cpu_count = cpu_count.mean()\n",
    "cpu_count"
   ]
  },
  {
   "cell_type": "markdown",
   "metadata": {},
   "source": [
    "# Lowest TDP (Thermal Design Power)"
   ]
  },
  {
   "cell_type": "code",
   "execution_count": 44,
   "metadata": {},
   "outputs": [
    {
     "data": {
      "text/html": [
       "<div>\n",
       "<style scoped>\n",
       "    .dataframe tbody tr th:only-of-type {\n",
       "        vertical-align: middle;\n",
       "    }\n",
       "\n",
       "    .dataframe tbody tr th {\n",
       "        vertical-align: top;\n",
       "    }\n",
       "\n",
       "    .dataframe thead th {\n",
       "        text-align: right;\n",
       "    }\n",
       "</style>\n",
       "<table border=\"1\" class=\"dataframe\">\n",
       "  <thead>\n",
       "    <tr style=\"text-align: right;\">\n",
       "      <th></th>\n",
       "      <th>Product</th>\n",
       "      <th>TDP</th>\n",
       "    </tr>\n",
       "  </thead>\n",
       "  <tbody>\n",
       "    <tr>\n",
       "      <th>0</th>\n",
       "      <td>AMD Athlon 64 3500+</td>\n",
       "      <td>45.000000</td>\n",
       "    </tr>\n",
       "    <tr>\n",
       "      <th>1</th>\n",
       "      <td>AMD Athlon 200GE</td>\n",
       "      <td>35.000000</td>\n",
       "    </tr>\n",
       "    <tr>\n",
       "      <th>2</th>\n",
       "      <td>Intel Core i5-1145G7</td>\n",
       "      <td>28.000000</td>\n",
       "    </tr>\n",
       "    <tr>\n",
       "      <th>3</th>\n",
       "      <td>Intel Xeon E5-2603 v2</td>\n",
       "      <td>80.000000</td>\n",
       "    </tr>\n",
       "    <tr>\n",
       "      <th>4</th>\n",
       "      <td>AMD Phenom II X4 980 BE</td>\n",
       "      <td>125.000000</td>\n",
       "    </tr>\n",
       "    <tr>\n",
       "      <th>...</th>\n",
       "      <td>...</td>\n",
       "      <td>...</td>\n",
       "    </tr>\n",
       "    <tr>\n",
       "      <th>4849</th>\n",
       "      <td>NVIDIA Quadro 3000M</td>\n",
       "      <td>75.000000</td>\n",
       "    </tr>\n",
       "    <tr>\n",
       "      <th>4850</th>\n",
       "      <td>Intel GMA 950</td>\n",
       "      <td>7.000000</td>\n",
       "    </tr>\n",
       "    <tr>\n",
       "      <th>4851</th>\n",
       "      <td>NVIDIA GeForce GT 320M</td>\n",
       "      <td>23.000000</td>\n",
       "    </tr>\n",
       "    <tr>\n",
       "      <th>4852</th>\n",
       "      <td>NVIDIA GeForce FX 5200</td>\n",
       "      <td>81.359981</td>\n",
       "    </tr>\n",
       "    <tr>\n",
       "      <th>4853</th>\n",
       "      <td>NVIDIA GeForce 9300 SE</td>\n",
       "      <td>81.359981</td>\n",
       "    </tr>\n",
       "  </tbody>\n",
       "</table>\n",
       "<p>4854 rows × 2 columns</p>\n",
       "</div>"
      ],
      "text/plain": [
       "                      Product         TDP\n",
       "0         AMD Athlon 64 3500+   45.000000\n",
       "1            AMD Athlon 200GE   35.000000\n",
       "2        Intel Core i5-1145G7   28.000000\n",
       "3       Intel Xeon E5-2603 v2   80.000000\n",
       "4     AMD Phenom II X4 980 BE  125.000000\n",
       "...                       ...         ...\n",
       "4849      NVIDIA Quadro 3000M   75.000000\n",
       "4850            Intel GMA 950    7.000000\n",
       "4851   NVIDIA GeForce GT 320M   23.000000\n",
       "4852   NVIDIA GeForce FX 5200   81.359981\n",
       "4853   NVIDIA GeForce 9300 SE   81.359981\n",
       "\n",
       "[4854 rows x 2 columns]"
      ]
     },
     "execution_count": 44,
     "metadata": {},
     "output_type": "execute_result"
    }
   ],
   "source": [
    "df_tdp = df_w[['Product','TDP']]\n",
    "df_tdp"
   ]
  },
  {
   "cell_type": "code",
   "execution_count": 45,
   "metadata": {},
   "outputs": [
    {
     "data": {
      "text/plain": [
       "pandas.core.frame.DataFrame"
      ]
     },
     "execution_count": 45,
     "metadata": {},
     "output_type": "execute_result"
    }
   ],
   "source": [
    "type(df_tdp)"
   ]
  },
  {
   "cell_type": "code",
   "execution_count": 46,
   "metadata": {},
   "outputs": [
    {
     "data": {
      "text/html": [
       "<div>\n",
       "<style scoped>\n",
       "    .dataframe tbody tr th:only-of-type {\n",
       "        vertical-align: middle;\n",
       "    }\n",
       "\n",
       "    .dataframe tbody tr th {\n",
       "        vertical-align: top;\n",
       "    }\n",
       "\n",
       "    .dataframe thead th {\n",
       "        text-align: right;\n",
       "    }\n",
       "</style>\n",
       "<table border=\"1\" class=\"dataframe\">\n",
       "  <thead>\n",
       "    <tr style=\"text-align: right;\">\n",
       "      <th></th>\n",
       "      <th>Product</th>\n",
       "      <th>TDP</th>\n",
       "    </tr>\n",
       "  </thead>\n",
       "  <tbody>\n",
       "    <tr>\n",
       "      <th>2175</th>\n",
       "      <td>Intel Atom Z612</td>\n",
       "      <td>1.0</td>\n",
       "    </tr>\n",
       "    <tr>\n",
       "      <th>1964</th>\n",
       "      <td>Intel Atom Z600</td>\n",
       "      <td>1.0</td>\n",
       "    </tr>\n",
       "    <tr>\n",
       "      <th>469</th>\n",
       "      <td>Intel Atom Z620</td>\n",
       "      <td>1.0</td>\n",
       "    </tr>\n",
       "    <tr>\n",
       "      <th>1550</th>\n",
       "      <td>Intel Atom Z500</td>\n",
       "      <td>1.0</td>\n",
       "    </tr>\n",
       "    <tr>\n",
       "      <th>60</th>\n",
       "      <td>Intel Atom Z515</td>\n",
       "      <td>1.0</td>\n",
       "    </tr>\n",
       "    <tr>\n",
       "      <th>...</th>\n",
       "      <td>...</td>\n",
       "      <td>...</td>\n",
       "    </tr>\n",
       "    <tr>\n",
       "      <th>4605</th>\n",
       "      <td>NVIDIA Quadro Plex 2100 S4</td>\n",
       "      <td>640.0</td>\n",
       "    </tr>\n",
       "    <tr>\n",
       "      <th>2908</th>\n",
       "      <td>NVIDIA Tesla S1075</td>\n",
       "      <td>800.0</td>\n",
       "    </tr>\n",
       "    <tr>\n",
       "      <th>3603</th>\n",
       "      <td>NVIDIA Tesla S1070</td>\n",
       "      <td>800.0</td>\n",
       "    </tr>\n",
       "    <tr>\n",
       "      <th>4064</th>\n",
       "      <td>NVIDIA Tesla S870</td>\n",
       "      <td>800.0</td>\n",
       "    </tr>\n",
       "    <tr>\n",
       "      <th>4821</th>\n",
       "      <td>NVIDIA Tesla S2050</td>\n",
       "      <td>900.0</td>\n",
       "    </tr>\n",
       "  </tbody>\n",
       "</table>\n",
       "<p>4854 rows × 2 columns</p>\n",
       "</div>"
      ],
      "text/plain": [
       "                         Product    TDP\n",
       "2175             Intel Atom Z612    1.0\n",
       "1964             Intel Atom Z600    1.0\n",
       "469              Intel Atom Z620    1.0\n",
       "1550             Intel Atom Z500    1.0\n",
       "60               Intel Atom Z515    1.0\n",
       "...                          ...    ...\n",
       "4605  NVIDIA Quadro Plex 2100 S4  640.0\n",
       "2908          NVIDIA Tesla S1075  800.0\n",
       "3603          NVIDIA Tesla S1070  800.0\n",
       "4064           NVIDIA Tesla S870  800.0\n",
       "4821          NVIDIA Tesla S2050  900.0\n",
       "\n",
       "[4854 rows x 2 columns]"
      ]
     },
     "execution_count": 46,
     "metadata": {},
     "output_type": "execute_result"
    }
   ],
   "source": [
    "df_tdp = df_tdp.sort_values(by='TDP')\n",
    "df_tdp"
   ]
  },
  {
   "cell_type": "code",
   "execution_count": 47,
   "metadata": {},
   "outputs": [
    {
     "data": {
      "text/html": [
       "<div>\n",
       "<style scoped>\n",
       "    .dataframe tbody tr th:only-of-type {\n",
       "        vertical-align: middle;\n",
       "    }\n",
       "\n",
       "    .dataframe tbody tr th {\n",
       "        vertical-align: top;\n",
       "    }\n",
       "\n",
       "    .dataframe thead th {\n",
       "        text-align: right;\n",
       "    }\n",
       "</style>\n",
       "<table border=\"1\" class=\"dataframe\">\n",
       "  <thead>\n",
       "    <tr style=\"text-align: right;\">\n",
       "      <th></th>\n",
       "      <th>Product</th>\n",
       "      <th>TDP</th>\n",
       "    </tr>\n",
       "  </thead>\n",
       "  <tbody>\n",
       "    <tr>\n",
       "      <th>2175</th>\n",
       "      <td>Intel Atom Z612</td>\n",
       "      <td>1.0</td>\n",
       "    </tr>\n",
       "    <tr>\n",
       "      <th>1964</th>\n",
       "      <td>Intel Atom Z600</td>\n",
       "      <td>1.0</td>\n",
       "    </tr>\n",
       "    <tr>\n",
       "      <th>469</th>\n",
       "      <td>Intel Atom Z620</td>\n",
       "      <td>1.0</td>\n",
       "    </tr>\n",
       "    <tr>\n",
       "      <th>1550</th>\n",
       "      <td>Intel Atom Z500</td>\n",
       "      <td>1.0</td>\n",
       "    </tr>\n",
       "    <tr>\n",
       "      <th>60</th>\n",
       "      <td>Intel Atom Z515</td>\n",
       "      <td>1.0</td>\n",
       "    </tr>\n",
       "    <tr>\n",
       "      <th>1761</th>\n",
       "      <td>Intel Atom Z610</td>\n",
       "      <td>1.0</td>\n",
       "    </tr>\n",
       "    <tr>\n",
       "      <th>1424</th>\n",
       "      <td>Intel Atom Z510</td>\n",
       "      <td>2.0</td>\n",
       "    </tr>\n",
       "  </tbody>\n",
       "</table>\n",
       "</div>"
      ],
      "text/plain": [
       "              Product  TDP\n",
       "2175  Intel Atom Z612  1.0\n",
       "1964  Intel Atom Z600  1.0\n",
       "469   Intel Atom Z620  1.0\n",
       "1550  Intel Atom Z500  1.0\n",
       "60    Intel Atom Z515  1.0\n",
       "1761  Intel Atom Z610  1.0\n",
       "1424  Intel Atom Z510  2.0"
      ]
     },
     "execution_count": 47,
     "metadata": {},
     "output_type": "execute_result"
    }
   ],
   "source": [
    "df_tdp = df_tdp.head(7)\n",
    "df_tdp"
   ]
  },
  {
   "cell_type": "code",
   "execution_count": 61,
   "metadata": {},
   "outputs": [
    {
     "data": {
      "image/png": "[encoded data removed]",
      "text/plain": [
       "<Figure size 700x300 with 1 Axes>"
      ]
     },
     "metadata": {},
     "output_type": "display_data"
    }
   ],
   "source": [
    "plt.figure(figsize=(7,3))\n",
    "plt.bar(df_tdp['Product'],df_tdp['TDP'],color = ['#A2246B' if tdp < 2 else '#F62D2D' for tdp in df_tdp['TDP']])\n",
    "plt.title('Products with the Lowest Thermal Design Power',\n",
    "          fontfamily = 'Times New Roman',\n",
    "          fontsize = '15',\n",
    "          fontweight = 'bold')\n",
    "plt.ylabel('Watts',\n",
    "           fontfamily = 'Times New Roman',\n",
    "          fontsize = '12',\n",
    "          fontweight = 'bold')\n",
    "plt.xticks(rotation=45, ha='right')\n",
    "plt.show()"
   ]
  },
  {
   "cell_type": "code",
   "execution_count": null,
   "metadata": {},
   "outputs": [],
   "source": []
  },
  {
   "cell_type": "markdown",
   "metadata": {},
   "source": [
    "# GPU Process Size Trend"
   ]
  },
  {
   "cell_type": "code",
   "execution_count": 49,
   "metadata": {},
   "outputs": [
    {
     "data": {
      "text/html": [
       "<div>\n",
       "<style scoped>\n",
       "    .dataframe tbody tr th:only-of-type {\n",
       "        vertical-align: middle;\n",
       "    }\n",
       "\n",
       "    .dataframe tbody tr th {\n",
       "        vertical-align: top;\n",
       "    }\n",
       "\n",
       "    .dataframe thead th {\n",
       "        text-align: right;\n",
       "    }\n",
       "</style>\n",
       "<table border=\"1\" class=\"dataframe\">\n",
       "  <thead>\n",
       "    <tr style=\"text-align: right;\">\n",
       "      <th></th>\n",
       "      <th>Type</th>\n",
       "      <th>Date</th>\n",
       "      <th>Process_Size</th>\n",
       "    </tr>\n",
       "  </thead>\n",
       "  <tbody>\n",
       "    <tr>\n",
       "      <th>2192</th>\n",
       "      <td>GPU</td>\n",
       "      <td>4/3/2011</td>\n",
       "      <td>32.0</td>\n",
       "    </tr>\n",
       "    <tr>\n",
       "      <th>2193</th>\n",
       "      <td>GPU</td>\n",
       "      <td>6/25/2002</td>\n",
       "      <td>150.0</td>\n",
       "    </tr>\n",
       "    <tr>\n",
       "      <th>2194</th>\n",
       "      <td>GPU</td>\n",
       "      <td>2/23/2019</td>\n",
       "      <td>14.0</td>\n",
       "    </tr>\n",
       "    <tr>\n",
       "      <th>2195</th>\n",
       "      <td>GPU</td>\n",
       "      <td>3/2/2008</td>\n",
       "      <td>130.0</td>\n",
       "    </tr>\n",
       "    <tr>\n",
       "      <th>2196</th>\n",
       "      <td>GPU</td>\n",
       "      <td>9/30/2008</td>\n",
       "      <td>55.0</td>\n",
       "    </tr>\n",
       "    <tr>\n",
       "      <th>...</th>\n",
       "      <td>...</td>\n",
       "      <td>...</td>\n",
       "      <td>...</td>\n",
       "    </tr>\n",
       "    <tr>\n",
       "      <th>4849</th>\n",
       "      <td>GPU</td>\n",
       "      <td>2/22/2011</td>\n",
       "      <td>40.0</td>\n",
       "    </tr>\n",
       "    <tr>\n",
       "      <th>4850</th>\n",
       "      <td>GPU</td>\n",
       "      <td>6/1/2005</td>\n",
       "      <td>90.0</td>\n",
       "    </tr>\n",
       "    <tr>\n",
       "      <th>4851</th>\n",
       "      <td>GPU</td>\n",
       "      <td>3/3/2010</td>\n",
       "      <td>40.0</td>\n",
       "    </tr>\n",
       "    <tr>\n",
       "      <th>4852</th>\n",
       "      <td>GPU</td>\n",
       "      <td>3/6/2003</td>\n",
       "      <td>150.0</td>\n",
       "    </tr>\n",
       "    <tr>\n",
       "      <th>4853</th>\n",
       "      <td>GPU</td>\n",
       "      <td>6/1/2008</td>\n",
       "      <td>65.0</td>\n",
       "    </tr>\n",
       "  </tbody>\n",
       "</table>\n",
       "<p>2653 rows × 3 columns</p>\n",
       "</div>"
      ],
      "text/plain": [
       "     Type       Date  Process_Size\n",
       "2192  GPU   4/3/2011          32.0\n",
       "2193  GPU  6/25/2002         150.0\n",
       "2194  GPU  2/23/2019          14.0\n",
       "2195  GPU   3/2/2008         130.0\n",
       "2196  GPU  9/30/2008          55.0\n",
       "...   ...        ...           ...\n",
       "4849  GPU  2/22/2011          40.0\n",
       "4850  GPU   6/1/2005          90.0\n",
       "4851  GPU   3/3/2010          40.0\n",
       "4852  GPU   3/6/2003         150.0\n",
       "4853  GPU   6/1/2008          65.0\n",
       "\n",
       "[2653 rows x 3 columns]"
      ]
     },
     "execution_count": 49,
     "metadata": {},
     "output_type": "execute_result"
    }
   ],
   "source": [
    "df_ps = df_w[['Type','Date','Process_Size']].where(df_w['Type']=='GPU').dropna()\n",
    "df_ps"
   ]
  },
  {
   "cell_type": "code",
   "execution_count": 50,
   "metadata": {},
   "outputs": [
    {
     "data": {
      "text/html": [
       "<div>\n",
       "<style scoped>\n",
       "    .dataframe tbody tr th:only-of-type {\n",
       "        vertical-align: middle;\n",
       "    }\n",
       "\n",
       "    .dataframe tbody tr th {\n",
       "        vertical-align: top;\n",
       "    }\n",
       "\n",
       "    .dataframe thead th {\n",
       "        text-align: right;\n",
       "    }\n",
       "</style>\n",
       "<table border=\"1\" class=\"dataframe\">\n",
       "  <thead>\n",
       "    <tr style=\"text-align: right;\">\n",
       "      <th></th>\n",
       "      <th>Type</th>\n",
       "      <th>Date</th>\n",
       "      <th>Process_Size</th>\n",
       "      <th>Year</th>\n",
       "    </tr>\n",
       "  </thead>\n",
       "  <tbody>\n",
       "    <tr>\n",
       "      <th>2192</th>\n",
       "      <td>GPU</td>\n",
       "      <td>2011-04-03</td>\n",
       "      <td>32.0</td>\n",
       "      <td>2011.0</td>\n",
       "    </tr>\n",
       "    <tr>\n",
       "      <th>2193</th>\n",
       "      <td>GPU</td>\n",
       "      <td>2002-06-25</td>\n",
       "      <td>150.0</td>\n",
       "      <td>2002.0</td>\n",
       "    </tr>\n",
       "    <tr>\n",
       "      <th>2194</th>\n",
       "      <td>GPU</td>\n",
       "      <td>2019-02-23</td>\n",
       "      <td>14.0</td>\n",
       "      <td>2019.0</td>\n",
       "    </tr>\n",
       "    <tr>\n",
       "      <th>2195</th>\n",
       "      <td>GPU</td>\n",
       "      <td>2008-03-02</td>\n",
       "      <td>130.0</td>\n",
       "      <td>2008.0</td>\n",
       "    </tr>\n",
       "    <tr>\n",
       "      <th>2196</th>\n",
       "      <td>GPU</td>\n",
       "      <td>2008-09-30</td>\n",
       "      <td>55.0</td>\n",
       "      <td>2008.0</td>\n",
       "    </tr>\n",
       "    <tr>\n",
       "      <th>...</th>\n",
       "      <td>...</td>\n",
       "      <td>...</td>\n",
       "      <td>...</td>\n",
       "      <td>...</td>\n",
       "    </tr>\n",
       "    <tr>\n",
       "      <th>4849</th>\n",
       "      <td>GPU</td>\n",
       "      <td>2011-02-22</td>\n",
       "      <td>40.0</td>\n",
       "      <td>2011.0</td>\n",
       "    </tr>\n",
       "    <tr>\n",
       "      <th>4850</th>\n",
       "      <td>GPU</td>\n",
       "      <td>2005-06-01</td>\n",
       "      <td>90.0</td>\n",
       "      <td>2005.0</td>\n",
       "    </tr>\n",
       "    <tr>\n",
       "      <th>4851</th>\n",
       "      <td>GPU</td>\n",
       "      <td>2010-03-03</td>\n",
       "      <td>40.0</td>\n",
       "      <td>2010.0</td>\n",
       "    </tr>\n",
       "    <tr>\n",
       "      <th>4852</th>\n",
       "      <td>GPU</td>\n",
       "      <td>2003-03-06</td>\n",
       "      <td>150.0</td>\n",
       "      <td>2003.0</td>\n",
       "    </tr>\n",
       "    <tr>\n",
       "      <th>4853</th>\n",
       "      <td>GPU</td>\n",
       "      <td>2008-06-01</td>\n",
       "      <td>65.0</td>\n",
       "      <td>2008.0</td>\n",
       "    </tr>\n",
       "  </tbody>\n",
       "</table>\n",
       "<p>2653 rows × 4 columns</p>\n",
       "</div>"
      ],
      "text/plain": [
       "     Type       Date  Process_Size    Year\n",
       "2192  GPU 2011-04-03          32.0  2011.0\n",
       "2193  GPU 2002-06-25         150.0  2002.0\n",
       "2194  GPU 2019-02-23          14.0  2019.0\n",
       "2195  GPU 2008-03-02         130.0  2008.0\n",
       "2196  GPU 2008-09-30          55.0  2008.0\n",
       "...   ...        ...           ...     ...\n",
       "4849  GPU 2011-02-22          40.0  2011.0\n",
       "4850  GPU 2005-06-01          90.0  2005.0\n",
       "4851  GPU 2010-03-03          40.0  2010.0\n",
       "4852  GPU 2003-03-06         150.0  2003.0\n",
       "4853  GPU 2008-06-01          65.0  2008.0\n",
       "\n",
       "[2653 rows x 4 columns]"
      ]
     },
     "execution_count": 50,
     "metadata": {},
     "output_type": "execute_result"
    }
   ],
   "source": [
    "df_ps['Date'] = pd.to_datetime(df_ps['Date'])\n",
    "df_ps['Year'] = df_ps['Date'].dt.year\n",
    "df_ps "
   ]
  },
  {
   "cell_type": "code",
   "execution_count": 51,
   "metadata": {},
   "outputs": [
    {
     "data": {
      "text/html": [
       "<div>\n",
       "<style scoped>\n",
       "    .dataframe tbody tr th:only-of-type {\n",
       "        vertical-align: middle;\n",
       "    }\n",
       "\n",
       "    .dataframe tbody tr th {\n",
       "        vertical-align: top;\n",
       "    }\n",
       "\n",
       "    .dataframe thead th {\n",
       "        text-align: right;\n",
       "    }\n",
       "</style>\n",
       "<table border=\"1\" class=\"dataframe\">\n",
       "  <thead>\n",
       "    <tr style=\"text-align: right;\">\n",
       "      <th></th>\n",
       "      <th>Year</th>\n",
       "      <th>Process_Size</th>\n",
       "    </tr>\n",
       "  </thead>\n",
       "  <tbody>\n",
       "    <tr>\n",
       "      <th>0</th>\n",
       "      <td>2000.0</td>\n",
       "      <td>189.642857</td>\n",
       "    </tr>\n",
       "    <tr>\n",
       "      <th>1</th>\n",
       "      <td>2001.0</td>\n",
       "      <td>165.000000</td>\n",
       "    </tr>\n",
       "    <tr>\n",
       "      <th>2</th>\n",
       "      <td>2002.0</td>\n",
       "      <td>153.913043</td>\n",
       "    </tr>\n",
       "    <tr>\n",
       "      <th>3</th>\n",
       "      <td>2003.0</td>\n",
       "      <td>140.982143</td>\n",
       "    </tr>\n",
       "    <tr>\n",
       "      <th>4</th>\n",
       "      <td>2004.0</td>\n",
       "      <td>121.384615</td>\n",
       "    </tr>\n",
       "    <tr>\n",
       "      <th>5</th>\n",
       "      <td>2005.0</td>\n",
       "      <td>112.315789</td>\n",
       "    </tr>\n",
       "    <tr>\n",
       "      <th>6</th>\n",
       "      <td>2006.0</td>\n",
       "      <td>93.178295</td>\n",
       "    </tr>\n",
       "    <tr>\n",
       "      <th>7</th>\n",
       "      <td>2007.0</td>\n",
       "      <td>80.031646</td>\n",
       "    </tr>\n",
       "    <tr>\n",
       "      <th>8</th>\n",
       "      <td>2008.0</td>\n",
       "      <td>63.439306</td>\n",
       "    </tr>\n",
       "    <tr>\n",
       "      <th>9</th>\n",
       "      <td>2009.0</td>\n",
       "      <td>52.740385</td>\n",
       "    </tr>\n",
       "    <tr>\n",
       "      <th>10</th>\n",
       "      <td>2010.0</td>\n",
       "      <td>42.787671</td>\n",
       "    </tr>\n",
       "    <tr>\n",
       "      <th>11</th>\n",
       "      <td>2011.0</td>\n",
       "      <td>39.280702</td>\n",
       "    </tr>\n",
       "    <tr>\n",
       "      <th>12</th>\n",
       "      <td>2012.0</td>\n",
       "      <td>33.653179</td>\n",
       "    </tr>\n",
       "    <tr>\n",
       "      <th>13</th>\n",
       "      <td>2013.0</td>\n",
       "      <td>28.971292</td>\n",
       "    </tr>\n",
       "    <tr>\n",
       "      <th>14</th>\n",
       "      <td>2014.0</td>\n",
       "      <td>27.795918</td>\n",
       "    </tr>\n",
       "    <tr>\n",
       "      <th>15</th>\n",
       "      <td>2015.0</td>\n",
       "      <td>26.617284</td>\n",
       "    </tr>\n",
       "    <tr>\n",
       "      <th>16</th>\n",
       "      <td>2016.0</td>\n",
       "      <td>22.091743</td>\n",
       "    </tr>\n",
       "    <tr>\n",
       "      <th>17</th>\n",
       "      <td>2017.0</td>\n",
       "      <td>16.183486</td>\n",
       "    </tr>\n",
       "    <tr>\n",
       "      <th>18</th>\n",
       "      <td>2018.0</td>\n",
       "      <td>13.826087</td>\n",
       "    </tr>\n",
       "    <tr>\n",
       "      <th>19</th>\n",
       "      <td>2019.0</td>\n",
       "      <td>12.852941</td>\n",
       "    </tr>\n",
       "    <tr>\n",
       "      <th>20</th>\n",
       "      <td>2020.0</td>\n",
       "      <td>10.000000</td>\n",
       "    </tr>\n",
       "    <tr>\n",
       "      <th>21</th>\n",
       "      <td>2021.0</td>\n",
       "      <td>8.944444</td>\n",
       "    </tr>\n",
       "  </tbody>\n",
       "</table>\n",
       "</div>"
      ],
      "text/plain": [
       "      Year  Process_Size\n",
       "0   2000.0    189.642857\n",
       "1   2001.0    165.000000\n",
       "2   2002.0    153.913043\n",
       "3   2003.0    140.982143\n",
       "4   2004.0    121.384615\n",
       "5   2005.0    112.315789\n",
       "6   2006.0     93.178295\n",
       "7   2007.0     80.031646\n",
       "8   2008.0     63.439306\n",
       "9   2009.0     52.740385\n",
       "10  2010.0     42.787671\n",
       "11  2011.0     39.280702\n",
       "12  2012.0     33.653179\n",
       "13  2013.0     28.971292\n",
       "14  2014.0     27.795918\n",
       "15  2015.0     26.617284\n",
       "16  2016.0     22.091743\n",
       "17  2017.0     16.183486\n",
       "18  2018.0     13.826087\n",
       "19  2019.0     12.852941\n",
       "20  2020.0     10.000000\n",
       "21  2021.0      8.944444"
      ]
     },
     "execution_count": 51,
     "metadata": {},
     "output_type": "execute_result"
    }
   ],
   "source": [
    "df_ps = df_ps.groupby('Year')['Process_Size'].mean().reset_index()\n",
    "df_ps"
   ]
  },
  {
   "cell_type": "code",
   "execution_count": 66,
   "metadata": {},
   "outputs": [
    {
     "data": {
      "text/plain": [
       "Text(0, 0.5, 'Number')"
      ]
     },
     "execution_count": 66,
     "metadata": {},
     "output_type": "execute_result"
    },
    {
     "data": {
      "image/png": "[encoded data removed]",
      "text/plain": [
       "<Figure size 1000x500 with 1 Axes>"
      ]
     },
     "metadata": {},
     "output_type": "display_data"
    }
   ],
   "source": [
    "plt.figure(figsize=(10,5))\n",
    "plt.plot(df_ps['Year'],df_ps['Process_Size'], color = '#722B6A')\n",
    "plt.title('GPU Process Size Trend',\n",
    "           fontfamily = 'Times New Roman',\n",
    "          fontsize = '15',\n",
    "          fontweight = 'bold')\n",
    "plt.ylabel('Number',\n",
    "            fontfamily = 'Times New Roman',\n",
    "          fontsize = '12',\n",
    "          fontweight = 'bold')"
   ]
  },
  {
   "cell_type": "code",
   "execution_count": 53,
   "metadata": {},
   "outputs": [
    {
     "data": {
      "text/plain": [
       "Die_Size\n",
       "188         716\n",
       "118         130\n",
       "246         103\n",
       "123          94\n",
       "160          93\n",
       "131          89\n",
       "193          75\n",
       "Name: count, dtype: int64"
      ]
     },
     "execution_count": 53,
     "metadata": {},
     "output_type": "execute_result"
    }
   ],
   "source": [
    "df_di = df_w[['Die_Size']].astype(int).value_counts()\n",
    "df_di = df_di.head(7)\n",
    "df_di"
   ]
  },
  {
   "cell_type": "code",
   "execution_count": 54,
   "metadata": {},
   "outputs": [
    {
     "data": {
      "image/png": "[encoded data removed]",
      "text/plain": [
       "<Figure size 700x500 with 1 Axes>"
      ]
     },
     "metadata": {},
     "output_type": "display_data"
    }
   ],
   "source": [
    "chart = df_di.plot(kind='bar',\n",
    "                color =['#32CD32'] \n",
    "                ,figsize=(7,5))\n",
    "chart.bar_label(chart.containers[0],label_type='edge', \n",
    "                fontfamily = 'Times New Roman',\n",
    "                fontweight = 'bold')\n",
    "plt.title('Commanly Used Die Size',\n",
    "          fontfamily = 'Times New Roman',\n",
    "          fontweight = 'bold',\n",
    "          fontsize='15')\n",
    "plt.xlabel('Die Sizes',\n",
    "           fontfamily = 'Times New Roman',\n",
    "          fontweight = 'bold',\n",
    "          fontsize='12')\n",
    "plt.xticks(rotation=0, ha='center')\n",
    "plt.ylabel('No. of Commonly Used Size',\n",
    "           fontfamily = 'Times New Roman',\n",
    "          fontweight = 'bold',\n",
    "          fontsize='12')\n",
    "plt.show()"
   ]
  },
  {
   "cell_type": "code",
   "execution_count": 55,
   "metadata": {},
   "outputs": [
    {
     "data": {
      "text/plain": [
       "Frequency\n",
       "2000         138\n",
       "2400         138\n",
       "500          131\n",
       "300          128\n",
       "2200         124\n",
       "2800         118\n",
       "Name: count, dtype: int64"
      ]
     },
     "execution_count": 55,
     "metadata": {},
     "output_type": "execute_result"
    }
   ],
   "source": [
    "df_fr = df_w[['Frequency']].value_counts()\n",
    "df_fr = df_fr.head(6)\n",
    "df_fr"
   ]
  },
  {
   "cell_type": "code",
   "execution_count": 64,
   "metadata": {},
   "outputs": [
    {
     "data": {
      "image/png": "[encoded data removed]",
      "text/plain": [
       "<Figure size 700x500 with 1 Axes>"
      ]
     },
     "metadata": {},
     "output_type": "display_data"
    }
   ],
   "source": [
    "chart = df_fr.plot(kind='bar',\n",
    "                color =['#00FFFF'] \n",
    "                ,figsize=(7,5))\n",
    "chart.bar_label(chart.containers[0],label_type='edge', \n",
    "                fontfamily = 'Times New Roman',\n",
    "                fontweight = 'bold')\n",
    "plt.title('Highest Detected Frequency',\n",
    "          fontfamily = 'Times New Roman',\n",
    "          fontweight = 'bold',\n",
    "          fontsize='15')\n",
    "plt.xlabel('Frequencies',\n",
    "           fontfamily = 'Times New Roman',\n",
    "          fontweight = 'bold',\n",
    "          fontsize='12')\n",
    "plt.xticks(rotation=0, ha='center')\n",
    "plt.ylabel('No. of Common Readings',\n",
    "           fontfamily = 'Times New Roman',\n",
    "          fontweight = 'bold',\n",
    "          fontsize='12')\n",
    "plt.show()"
   ]
  },
  {
   "cell_type": "code",
   "execution_count": 65,
   "metadata": {},
   "outputs": [
    {
     "data": {
      "text/plain": [
       "np.float64(129.5)"
      ]
     },
     "execution_count": 65,
     "metadata": {},
     "output_type": "execute_result"
    }
   ],
   "source": [
    "df_fr = df_fr.mean()\n",
    "df_fr"
   ]
  },
  {
   "cell_type": "code",
   "execution_count": 57,
   "metadata": {},
   "outputs": [
    {
     "data": {
      "text/plain": [
       "Transistors\n",
       "1929           711\n",
       "1400           173\n",
       "1178           118\n",
       "106            102\n",
       "63              63\n",
       "154             61\n",
       "125             60\n",
       "Name: count, dtype: int64"
      ]
     },
     "execution_count": 57,
     "metadata": {},
     "output_type": "execute_result"
    }
   ],
   "source": [
    "df_dt = df_w[['Transistors']].astype(int).value_counts()\n",
    "df_dt = df_dt.head(7)\n",
    "df_dt"
   ]
  },
  {
   "cell_type": "code",
   "execution_count": 58,
   "metadata": {},
   "outputs": [
    {
     "data": {
      "image/png": "[encoded data removed]",
      "text/plain": [
       "<Figure size 700x500 with 1 Axes>"
      ]
     },
     "metadata": {},
     "output_type": "display_data"
    }
   ],
   "source": [
    "chart = df_dt.plot(kind='bar',\n",
    "                color =['#F62D2D'] \n",
    "                ,figsize=(7,5))\n",
    "chart.bar_label(chart.containers[0],label_type='edge', \n",
    "                fontfamily = 'Times New Roman',\n",
    "                fontweight = 'bold')\n",
    "plt.title('Commanly Used Transitors',\n",
    "          fontfamily = 'Times New Roman',\n",
    "          fontweight = 'bold',\n",
    "          fontsize='15')\n",
    "plt.xlabel('Type of Transistor',\n",
    "           fontfamily = 'Times New Roman',\n",
    "           fontweight = 'bold',\n",
    "           fontsize = '12')\n",
    "plt.xticks(rotation=0, ha='center')\n",
    "plt.ylabel('No. of Commoly Used Transistors',\n",
    "           fontfamily = 'Times New Roman',\n",
    "          fontweight = 'bold',\n",
    "          fontsize='12')\n",
    "plt.show()"
   ]
  }
 ],
 "metadata": {
  "kernelspec": {
   "display_name": "Python 3",
   "language": "python",
   "name": "python3"
  },
  "language_info": {
   "codemirror_mode": {
    "name": "ipython",
    "version": 3
   },
   "file_extension": ".py",
   "mimetype": "text/x-python",
   "name": "python",
   "nbconvert_exporter": "python",
   "pygments_lexer": "ipython3",
   "version": "3.13.1"
  }
 },
 "nbformat": 4,
 "nbformat_minor": 2
}
